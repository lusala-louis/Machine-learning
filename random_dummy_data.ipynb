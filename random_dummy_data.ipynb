{
  "nbformat": 4,
  "nbformat_minor": 0,
  "metadata": {
    "colab": {
      "provenance": [],
      "authorship_tag": "ABX9TyPkLNPa2CH/EdiBbh/vNz5P",
      "include_colab_link": true
    },
    "kernelspec": {
      "name": "python3",
      "display_name": "Python 3"
    },
    "language_info": {
      "name": "python"
    }
  },
  "cells": [
    {
      "cell_type": "markdown",
      "metadata": {
        "id": "view-in-github",
        "colab_type": "text"
      },
      "source": [
        "<a href=\"https://colab.research.google.com/github/lusala-louis/Machine-learning/blob/master/random_dummy_data.ipynb\" target=\"_parent\"><img src=\"https://colab.research.google.com/assets/colab-badge.svg\" alt=\"Open In Colab\"/></a>"
      ]
    },
    {
      "cell_type": "code",
      "execution_count": 1,
      "metadata": {
        "colab": {
          "base_uri": "https://localhost:8080/"
        },
        "id": "o4Iszl4K1tfP",
        "outputId": "143353e8-1308-4aae-ff67-3e511820a6fb"
      },
      "outputs": [
        {
          "output_type": "stream",
          "name": "stdout",
          "text": [
            "[18.965647044357617, 19.27031620178141, 20.58487716259897, 19.947889737360146, 17.5041829314233, 7.652637081666066, 13.652440992346005, 12.314116967427708, 24.769455600155602, 20.24477590543698]\n"
          ]
        }
      ],
      "source": [
        "import random\n",
        "\n",
        "average_temperature = 21\n",
        "temperature_values = []\n",
        "\n",
        "for _ in range(1000):\n",
        "    temperature = random.normalvariate(average_temperature, 5)  # Using a normal distribution with a standard deviation of 5\n",
        "    temperature_values.append(temperature)\n",
        "\n",
        "print(temperature_values[:10])  # Print the first 10 temperature values as an example\n"
      ]
    },
    {
      "cell_type": "code",
      "source": [
        "import random\n",
        "\n",
        "average_temperature = 21\n",
        "temperature_values = []\n",
        "\n",
        "for _ in range(1000):\n",
        "    temperature = round(random.uniform(average_temperature - 2.5, average_temperature + 2.5))\n",
        "    temperature_values.append(temperature)\n",
        "\n",
        "print(temperature_values[:10])  # Print the first 10 temperature values as an example"
      ],
      "metadata": {
        "colab": {
          "base_uri": "https://localhost:8080/"
        },
        "id": "oIK9jd_p141E",
        "outputId": "a55842db-ffad-4dee-ca8e-ffefe41811b0"
      },
      "execution_count": 2,
      "outputs": [
        {
          "output_type": "stream",
          "name": "stdout",
          "text": [
            "[21, 20, 22, 21, 23, 20, 23, 19, 21, 23]\n"
          ]
        }
      ]
    },
    {
      "cell_type": "markdown",
      "source": [
        "**Humidity Values**"
      ],
      "metadata": {
        "id": "E5lELv1b3VYG"
      }
    },
    {
      "cell_type": "code",
      "source": [
        "import random\n",
        "\n",
        "average_humidity = random.randint(30, 70)\n",
        "humidity_values = []\n",
        "\n",
        "for _ in range(1000):\n",
        "    humidity = random.randint(average_humidity - 5, average_humidity + 5)\n",
        "    humidity_values.append(humidity)\n",
        "\n",
        "print(humidity_values[:10])  # Print the first 10 humidity values as an example\n"
      ],
      "metadata": {
        "colab": {
          "base_uri": "https://localhost:8080/"
        },
        "id": "K3I6R4gL3EcK",
        "outputId": "6e852b69-e275-42c2-a60e-3721c349343f"
      },
      "execution_count": 3,
      "outputs": [
        {
          "output_type": "stream",
          "name": "stdout",
          "text": [
            "[47, 52, 55, 50, 53, 52, 56, 48, 50, 50]\n"
          ]
        }
      ]
    },
    {
      "cell_type": "code",
      "source": [],
      "metadata": {
        "id": "2pMxAWzV4HIf"
      },
      "execution_count": null,
      "outputs": []
    }
  ]
}