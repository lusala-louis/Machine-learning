{
  "nbformat": 4,
  "nbformat_minor": 0,
  "metadata": {
    "colab": {
      "provenance": [],
      "authorship_tag": "ABX9TyNE0wZRLLBH1uAyNddErhRc",
      "include_colab_link": true
    },
    "kernelspec": {
      "name": "python3",
      "display_name": "Python 3"
    },
    "language_info": {
      "name": "python"
    }
  },
  "cells": [
    {
      "cell_type": "markdown",
      "metadata": {
        "id": "view-in-github",
        "colab_type": "text"
      },
      "source": [
        "<a href=\"https://colab.research.google.com/github/lusala-louis/Machine-learning/blob/master/random_dummy_data.ipynb\" target=\"_parent\"><img src=\"https://colab.research.google.com/assets/colab-badge.svg\" alt=\"Open In Colab\"/></a>"
      ]
    },
    {
      "cell_type": "markdown",
      "source": [
        "**Temperature**"
      ],
      "metadata": {
        "id": "JOqCIfWPq7B2"
      }
    },
    {
      "cell_type": "code",
      "source": [
        "import random\n",
        "import pandas as pd\n",
        "\n",
        "average_temperature = 21\n",
        "temperature_values = []\n",
        "\n",
        "for _ in range(1000):\n",
        "    temperature = round(random.uniform(average_temperature - 2.5, average_temperature + 2.5))\n",
        "    temperature_values.append(temperature)\n",
        "\n",
        "# Create a DataFrame from the generated dummy dates\n",
        "df = pd.DataFrame(temperature_values, columns=['Temperature'])\n",
        "\n",
        "# Save the DataFrame to a CSV file\n",
        "df.to_csv('temperature.csv', index=True)\n",
        "\n",
        "# Print the DataFrame\n",
        "print(df.head())"
      ],
      "metadata": {
        "colab": {
          "base_uri": "https://localhost:8080/"
        },
        "id": "oIK9jd_p141E",
        "outputId": "e0069983-84d0-4653-9878-328bf2ec329f"
      },
      "execution_count": 8,
      "outputs": [
        {
          "output_type": "stream",
          "name": "stdout",
          "text": [
            "   Temperature\n",
            "0           21\n",
            "1           19\n",
            "2           19\n",
            "3           22\n",
            "4           23\n"
          ]
        }
      ]
    },
    {
      "cell_type": "markdown",
      "source": [
        "**Humidity Values**"
      ],
      "metadata": {
        "id": "E5lELv1b3VYG"
      }
    },
    {
      "cell_type": "code",
      "source": [
        "import random\n",
        "import pandas as pd\n",
        "\n",
        "average_humidity = random.randint(30, 70)\n",
        "humidity_values = []\n",
        "\n",
        "for _ in range(1000):\n",
        "    humidity = random.randint(average_humidity - 5, average_humidity + 5)\n",
        "    humidity_values.append(humidity)\n",
        "\n",
        "# Create a DataFrame from the generated dummy dates\n",
        "df = pd.DataFrame(humidity_values, columns=['Humidity'])\n",
        "\n",
        "# Save the DataFrame to a CSV file\n",
        "df.to_csv('humidity.csv', index=True)\n",
        "\n",
        "# Print the DataFrame\n",
        "print(df.head())\n"
      ],
      "metadata": {
        "colab": {
          "base_uri": "https://localhost:8080/"
        },
        "id": "K3I6R4gL3EcK",
        "outputId": "424e6d01-8fa0-40ab-ccb9-7a8dab0019ed"
      },
      "execution_count": 9,
      "outputs": [
        {
          "output_type": "stream",
          "name": "stdout",
          "text": [
            "   Humidity\n",
            "0        41\n",
            "1        35\n",
            "2        41\n",
            "3        35\n",
            "4        37\n"
          ]
        }
      ]
    },
    {
      "cell_type": "markdown",
      "source": [
        "**Borrowed dates**"
      ],
      "metadata": {
        "id": "SrpTEzifi4TH"
      }
    },
    {
      "cell_type": "code",
      "source": [
        "import random\n",
        "from datetime import datetime, timedelta\n",
        "import pandas as pd\n",
        "\n",
        "# Generate a list of 1000 dummy date values\n",
        "dummy_dates = []\n",
        "start_date = datetime(2023, 1, 1)  # Start date for dummy dates\n",
        "\n",
        "for _ in range(1000):\n",
        "    borrowed_date = start_date + timedelta(days=random.randint(0, 365))  # Random borrowed date\n",
        "    returned_date = borrowed_date\n",
        "\n",
        "    while returned_date <= borrowed_date:  # Generate new returned date until it is after the borrowed date\n",
        "        returned_date = borrowed_date + timedelta(days=random.randint(0, 30))  # Random returned date\n",
        "\n",
        "    dummy_dates.append((borrowed_date.strftime('%Y-%m-%d'), returned_date.strftime('%Y-%m-%d')))\n",
        "\n",
        "# Print the generated dummy dates table\n",
        "# for borrowed_date, returned_date in dummy_dates[10:]:\n",
        "#     print(f\"Borrowed: {borrowed_date} | Returned: {returned_date}\")\n",
        "\n",
        "# Create a DataFrame from the generated dummy dates\n",
        "df = pd.DataFrame(dummy_dates, columns=['Borrowed', 'Returned'])\n",
        "\n",
        "# Save the DataFrame to a CSV file\n",
        "df.to_csv('dummy_dates.csv', index=True)\n",
        "\n",
        "# Print the DataFrame\n",
        "print(df.head())"
      ],
      "metadata": {
        "colab": {
          "base_uri": "https://localhost:8080/"
        },
        "id": "m9oo4UXvkg8m",
        "outputId": "669bc198-f801-4169-9bae-9ff5a7bc304d"
      },
      "execution_count": null,
      "outputs": [
        {
          "output_type": "stream",
          "name": "stdout",
          "text": [
            "     Borrowed    Returned\n",
            "0  2023-12-20  2023-12-24\n",
            "1  2023-01-04  2023-01-24\n",
            "2  2023-04-13  2023-05-12\n",
            "3  2023-12-15  2023-12-28\n",
            "4  2023-03-14  2023-03-27\n"
          ]
        }
      ]
    },
    {
      "cell_type": "markdown",
      "source": [
        "**User data**"
      ],
      "metadata": {
        "id": "KKWW3FrDsYZP"
      }
    },
    {
      "cell_type": "code",
      "source": [
        "!pip install Faker"
      ],
      "metadata": {
        "colab": {
          "base_uri": "https://localhost:8080/"
        },
        "id": "WstVJe0FrIBz",
        "outputId": "9e6ecdb6-c460-40a2-ee49-08503eceb99c"
      },
      "execution_count": 10,
      "outputs": [
        {
          "output_type": "stream",
          "name": "stdout",
          "text": [
            "Collecting Faker\n",
            "  Downloading Faker-18.11.2-py3-none-any.whl (1.7 MB)\n",
            "\u001b[?25l     \u001b[90m━━━━━━━━━━━━━━━━━━━━━━━━━━━━━━━━━━━━━━━━\u001b[0m \u001b[32m0.0/1.7 MB\u001b[0m \u001b[31m?\u001b[0m eta \u001b[36m-:--:--\u001b[0m\r\u001b[2K     \u001b[91m━━━━\u001b[0m\u001b[91m╸\u001b[0m\u001b[90m━━━━━━━━━━━━━━━━━━━━━━━━━━━━━━━━━━━\u001b[0m \u001b[32m0.2/1.7 MB\u001b[0m \u001b[31m6.4 MB/s\u001b[0m eta \u001b[36m0:00:01\u001b[0m\r\u001b[2K     \u001b[91m━━━━━━━━━━━━━━━━━━━━━━━━━━━━━━━━━━━━━━━\u001b[0m\u001b[90m╺\u001b[0m \u001b[32m1.7/1.7 MB\u001b[0m \u001b[31m24.3 MB/s\u001b[0m eta \u001b[36m0:00:01\u001b[0m\r\u001b[2K     \u001b[90m━━━━━━━━━━━━━━━━━━━━━━━━━━━━━━━━━━━━━━━━\u001b[0m \u001b[32m1.7/1.7 MB\u001b[0m \u001b[31m19.3 MB/s\u001b[0m eta \u001b[36m0:00:00\u001b[0m\n",
            "\u001b[?25hRequirement already satisfied: python-dateutil>=2.4 in /usr/local/lib/python3.10/dist-packages (from Faker) (2.8.2)\n",
            "Requirement already satisfied: six>=1.5 in /usr/local/lib/python3.10/dist-packages (from python-dateutil>=2.4->Faker) (1.16.0)\n",
            "Installing collected packages: Faker\n",
            "Successfully installed Faker-18.11.2\n"
          ]
        }
      ]
    },
    {
      "cell_type": "code",
      "source": [
        "from faker import Faker\n",
        "import pandas as pd\n",
        "\n",
        "no_of_students = 1000\n",
        "fake = Faker('en_US')\n",
        "students = []\n",
        "\n",
        "for student_id in range(no_of_students):\n",
        "  #Creating a first name\n",
        "  student_name = fake.name()\n",
        "\n",
        "  #Creating an email\n",
        "  email = fake.ascii_free_email()\n",
        "\n",
        "  #Creating jobs\n",
        "  job = fake.job()\n",
        "\n",
        "  students.append([student_name, email, job])\n",
        "\n",
        "# Create a DataFrame from the generated dummy dates\n",
        "students_df = pd.DataFrame(students, columns = ['student_name', 'email', 'job'])\n",
        "\n",
        "# Save the DataFrame to a CSV file\n",
        "students_df.to_csv('Users.csv', index=True)\n",
        "\n",
        "# Print the DataFrame\n",
        "print(students_df.head())"
      ],
      "metadata": {
        "colab": {
          "base_uri": "https://localhost:8080/"
        },
        "id": "bpXGXOph2JJ6",
        "outputId": "e4d0bcd6-5349-4399-dff6-4ba3b22b47e6"
      },
      "execution_count": 13,
      "outputs": [
        {
          "output_type": "stream",
          "name": "stdout",
          "text": [
            "        student_name                    email                           job\n",
            "0   Christian Harris    ymcdonald@hotmail.com    Psychologist, occupational\n",
            "1     Danielle Baird    bendertracy@gmail.com                 Ranger/warden\n",
            "2       Margaret Key  wisedeborah@hotmail.com       Clinical cytogeneticist\n",
            "3  Amanda Strickland         zrivas@yahoo.com                  Nurse, adult\n",
            "4      Matthew Clark       jcameron@yahoo.com  Garment/textile technologist\n"
          ]
        }
      ]
    },
    {
      "cell_type": "code",
      "source": [],
      "metadata": {
        "id": "JZZUUTQxrwvW"
      },
      "execution_count": null,
      "outputs": []
    }
  ]
}