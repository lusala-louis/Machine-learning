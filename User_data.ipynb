{
  "nbformat": 4,
  "nbformat_minor": 0,
  "metadata": {
    "colab": {
      "provenance": [],
      "authorship_tag": "ABX9TyMjryVQ1mvt2RukVPhFo0bq",
      "include_colab_link": true
    },
    "kernelspec": {
      "name": "python3",
      "display_name": "Python 3"
    },
    "language_info": {
      "name": "python"
    }
  },
  "cells": [
    {
      "cell_type": "markdown",
      "metadata": {
        "id": "view-in-github",
        "colab_type": "text"
      },
      "source": [
        "<a href=\"https://colab.research.google.com/github/lusala-louis/Machine-learning/blob/master/User_data.ipynb\" target=\"_parent\"><img src=\"https://colab.research.google.com/assets/colab-badge.svg\" alt=\"Open In Colab\"/></a>"
      ]
    },
    {
      "cell_type": "code",
      "execution_count": 2,
      "metadata": {
        "colab": {
          "base_uri": "https://localhost:8080/"
        },
        "id": "7jH7rGxy1DO-",
        "outputId": "4c6751e5-2094-432a-d53e-658055bf0b7b"
      },
      "outputs": [
        {
          "output_type": "stream",
          "name": "stdout",
          "text": [
            "Collecting Faker\n",
            "  Downloading Faker-18.11.2-py3-none-any.whl (1.7 MB)\n",
            "\u001b[?25l     \u001b[90m━━━━━━━━━━━━━━━━━━━━━━━━━━━━━━━━━━━━━━━━\u001b[0m \u001b[32m0.0/1.7 MB\u001b[0m \u001b[31m?\u001b[0m eta \u001b[36m-:--:--\u001b[0m\r\u001b[2K     \u001b[91m━━━━━━━━━━━━━━━━━━━━━━━━━━━━━━━━━━━━━━━\u001b[0m\u001b[91m╸\u001b[0m \u001b[32m1.7/1.7 MB\u001b[0m \u001b[31m55.3 MB/s\u001b[0m eta \u001b[36m0:00:01\u001b[0m\r\u001b[2K     \u001b[90m━━━━━━━━━━━━━━━━━━━━━━━━━━━━━━━━━━━━━━━━\u001b[0m \u001b[32m1.7/1.7 MB\u001b[0m \u001b[31m35.8 MB/s\u001b[0m eta \u001b[36m0:00:00\u001b[0m\n",
            "\u001b[?25hRequirement already satisfied: python-dateutil>=2.4 in /usr/local/lib/python3.10/dist-packages (from Faker) (2.8.2)\n",
            "Requirement already satisfied: six>=1.5 in /usr/local/lib/python3.10/dist-packages (from python-dateutil>=2.4->Faker) (1.16.0)\n",
            "Installing collected packages: Faker\n",
            "Successfully installed Faker-18.11.2\n"
          ]
        }
      ],
      "source": [
        "!pip install Faker\n",
        "from faker import Faker\n",
        "# import { faker: en } from '@faker/faker-js'"
      ]
    },
    {
      "cell_type": "code",
      "source": [
        "import pandas as pd\n",
        "import random\n",
        "from random import randrange\n",
        "from datetime import datetime"
      ],
      "metadata": {
        "id": "Xi_PQyuy1nQp"
      },
      "execution_count": null,
      "outputs": []
    },
    {
      "cell_type": "code",
      "source": [
        "import pandas as pd\n",
        "\n",
        "no_of_students = 1000\n",
        "fake = Faker('en_US')\n",
        "students = []\n",
        "\n",
        "for student_id in range(no_of_students):\n",
        "  #Creating a first name\n",
        "  student_name = fake.name()\n",
        "\n",
        "  #Creating a second name\n",
        "  #last_name = fake.last_name()\n",
        "\n",
        "  #Creating an email\n",
        "  email = fake.ascii_free_email()\n",
        "\n",
        "  #Creating jobs\n",
        "  job = fake.job()\n",
        "\n",
        "  students.append([student_name, email, job])\n",
        "\n",
        "students_df = pd.DataFrame(students, columns = ['student_name', 'email', 'job'])\n",
        "\n",
        "pd.pandas.set_option('display.max_columns', None)\n",
        "print(students_df)"
      ],
      "metadata": {
        "colab": {
          "base_uri": "https://localhost:8080/"
        },
        "id": "bpXGXOph2JJ6",
        "outputId": "832f8b35-214a-404c-db2c-7899f31ae119"
      },
      "execution_count": 5,
      "outputs": [
        {
          "output_type": "stream",
          "name": "stdout",
          "text": [
            "        student_name                   email  \\\n",
            "0     Wanda Williams  scottwinters@yahoo.com   \n",
            "1    Michael Rollins        todd61@yahoo.com   \n",
            "2    Micheal Johnson   dawnmahoney@gmail.com   \n",
            "3       Daniel Jones        framos@gmail.com   \n",
            "4     Alyssa Kennedy  martintaylor@gmail.com   \n",
            "..               ...                     ...   \n",
            "995      Jose Walker       mnewton@yahoo.com   \n",
            "996  Arthur Lane Jr.        john10@yahoo.com   \n",
            "997   Alicia Gregory     longdiane@yahoo.com   \n",
            "998   Lauren Bradley     stoneerin@gmail.com   \n",
            "999     Paul Roberts         zlong@gmail.com   \n",
            "\n",
            "                                       job  \n",
            "0                                Architect  \n",
            "1                 Computer games developer  \n",
            "2                      Electrical engineer  \n",
            "3                 Public relations officer  \n",
            "4             Administrator, Civil Service  \n",
            "..                                     ...  \n",
            "995  Product/process development scientist  \n",
            "996                           Bonds trader  \n",
            "997                 Advertising copywriter  \n",
            "998             Research scientist (maths)  \n",
            "999                           Cartographer  \n",
            "\n",
            "[1000 rows x 3 columns]\n"
          ]
        }
      ]
    },
    {
      "cell_type": "code",
      "source": [],
      "metadata": {
        "id": "eFQ2PW6T56Mf"
      },
      "execution_count": null,
      "outputs": []
    }
  ]
}